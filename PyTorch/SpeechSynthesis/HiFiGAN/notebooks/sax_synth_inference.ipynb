{
 "cells": [
  {
   "cell_type": "code",
   "execution_count": null,
   "id": "87066394-dd52-4d0a-8f28-50529cfe49ae",
   "metadata": {},
   "outputs": [],
   "source": [
    "import IPython.display as ipd\n",
    "#%matplotlib notebook\n",
    "\n",
    "from sax_synth_inference import run_on_validation_set, g_mel, load_generator_model, synthetic2octaves, generate_from_audio"
   ]
  },
  {
   "cell_type": "markdown",
   "id": "75790f5b-71f2-4edd-9d84-6088cec4f87b",
   "metadata": {},
   "source": [
    "# Init the generator and Mel spec class"
   ]
  },
  {
   "cell_type": "code",
   "execution_count": null,
   "id": "2ef28a06-3f6f-4d8c-b047-777c666bb908",
   "metadata": {},
   "outputs": [],
   "source": [
    "gen_path = '../results/2023_05_28_hifigan_ssynth44khz_synthesized_input_16k_spl0.5_nonorm/hifigan_gen_checkpoint_3000.pt'\n",
    "gen, denoiser, train_cfg = load_generator_model(gen_path)\n",
    "sampling_rate = train_cfg['sampling_rate']\n",
    "MEL_IMPL = 'hifigan'\n",
    "g_mel.init(train_cfg, MEL_IMPL)\n",
    "print('done loading generator')"
   ]
  },
  {
   "cell_type": "markdown",
   "id": "1c2431db-5f14-4ad0-b985-04e8bbaf7f7b",
   "metadata": {},
   "source": [
    "# Run inference on validation set, optionally sample one file to play"
   ]
  },
  {
   "cell_type": "code",
   "execution_count": null,
   "id": "5b3af353-6fad-4d8f-8617-be8b93877d13",
   "metadata": {},
   "outputs": [],
   "source": [
    "flist_path = '../data_ssynth/filelists' #--- where to look for list of validation files\n",
    "num_files = 50 #--- take first N files of the whole validation set (optional)\n",
    "mel_loss, mel_len, yret = run_on_validation_set(gen, denoiser, flist_path, num_files, return_file_index = 0)"
   ]
  },
  {
   "cell_type": "code",
   "execution_count": null,
   "id": "c8cdec93-a3f4-43c6-8fb9-f94e8bc60523",
   "metadata": {},
   "outputs": [],
   "source": [
    "play_normalize = True #False\n",
    "\n",
    "print('Original audio:')\n",
    "ipd.display(ipd.Audio(yret['y'], rate = sampling_rate, normalize = play_normalize))\n",
    "\n",
    "#print('Synthesized input:')\n",
    "#ipd.display(ipd.Audio(y_, rate = sampling_rate, normalize = play_normalize))\n",
    "\n",
    "print('Generated audio:')\n",
    "ipd.display(ipd.Audio(yret['y_hat'], rate = sampling_rate, normalize = play_normalize))\n",
    "\n",
    "print('Generated audio (denoised):')\n",
    "ipd.display(ipd.Audio(yret['y_hat_den'], rate = sampling_rate, normalize = play_normalize))"
   ]
  },
  {
   "cell_type": "markdown",
   "id": "5e8437a4-49b4-4da9-ba32-7d779d53388b",
   "metadata": {},
   "source": [
    "# Generate from synthetic input (2 octaves major scale)\n",
    "This uses naive linear envelopes, so it is expected to sound not natural"
   ]
  },
  {
   "cell_type": "code",
   "execution_count": null,
   "id": "e8fe16d6-739c-4b5b-89eb-ffbf391f9591",
   "metadata": {},
   "outputs": [],
   "source": [
    "x_hat, x_hat_den = synthetic2octaves(gen, denoiser, sampling_rate)"
   ]
  },
  {
   "cell_type": "code",
   "execution_count": null,
   "id": "3a3f90b2-bdab-44f1-aaac-4702b86e10e6",
   "metadata": {},
   "outputs": [],
   "source": [
    "play_normalize = True #False\n",
    "\n",
    "print('Generated audio:')\n",
    "x_hat_ = x_hat[0].cpu().detach().numpy()[0]\n",
    "ipd.display(ipd.Audio(x_hat_, rate = sampling_rate, normalize = play_normalize))\n",
    "\n",
    "print('Generated audio (denoised):')\n",
    "x_hat_den_ = x_hat_den[0].cpu().detach().numpy()[0]\n",
    "ipd.display(ipd.Audio(x_hat_den_, rate = sampling_rate, normalize = play_normalize))"
   ]
  },
  {
   "cell_type": "markdown",
   "id": "9d97fff7-def5-4a91-a456-c9e766bcc4d0",
   "metadata": {},
   "source": [
    "# Generate from parallel audio+midi, and compare\n",
    "## 1. Generate using the real GT envelopes (pitch and amplitude) of the input audio.\n",
    "This step uses the midi data of notes on/off for better tracking.\n",
    "### Read midi file and phrase data, choose a phrase (by index), and generate"
   ]
  },
  {
   "cell_type": "code",
   "execution_count": null,
   "id": "38ba4fe7-22b5-40f6-b803-9582e905fdc4",
   "metadata": {},
   "outputs": [],
   "source": [
    "import ssynth.set_python_path\n",
    "\n",
    "from ssynth.utils.synthesis import wav_midi_to_synth\n",
    "from ssynth.utils import midi\n",
    "from ssynth.utils.midi import midi_phrase_from_dataframe\n",
    "\n",
    "import librosa\n",
    "import os\n",
    "import pandas as pd\n",
    "\n",
    "#--- read phrase info for 1 file\n",
    "file_id = 'Funky_Nadley'\n",
    "midi_fnm = f'../data_ssynth_TMP/midi/{file_id}.mid'\n",
    "print(f'reading midi file {os.path.basename(midi_fnm)}')\n",
    "midi_df, midi_pitch, midi_aftertouch, midi_cc = midi.read_midi_to_df(midi_fnm)\n",
    "midi.verify_midi(midi_df)\n",
    "\n",
    "data_dir = '../data_ssynth_TMP/wavs'\n",
    "phrase_df_fnm = '../data_ssynth_TMP/phrase_df.csv'\n",
    "phrase_df = pd.read_csv(phrase_df_fnm, index_col = 0).reset_index(drop = True)\n",
    "phrase_df = phrase_df[phrase_df.file_nm.str.contains(file_id)]"
   ]
  },
  {
   "cell_type": "code",
   "execution_count": null,
   "id": "d2938f0f-9216-4613-a1a5-e860c3c06a31",
   "metadata": {},
   "outputs": [],
   "source": [
    "#--- pitch detection config\n",
    "pd_cfg = dict(win = 1024,\n",
    "              ac_win = 512, # autocorrelation window\n",
    "              hop = 256)\n",
    "\n",
    "#--- choose a phrase\n",
    "phrase_ind = 42 #14 #12 #5\n",
    "p = phrase_df.iloc[phrase_ind]\n",
    "\n",
    "t0 = p.sample_start / sampling_rate\n",
    "wav_fnm = f'{data_dir}/{p.phrase_id}.wav'\n",
    "seg, sr = librosa.load(wav_fnm, sr = sampling_rate)\n",
    "\n",
    "midi_p = midi_phrase_from_dataframe(p, midi_df, sampling_rate)\n",
    "midi_p_cc = midi_phrase_from_dataframe(p, midi_cc, sampling_rate)\n",
    "\n",
    "#--- filter 'errors'\n",
    "min_velocity = 3\n",
    "err_notes = (midi_p.type == 'note_on') & (midi_p.velocity <= min_velocity)\n",
    "err_notes.loc[err_notes[err_notes].index + 1] = True #--- add the corresponding note-off\n",
    "midi_p = midi_p[~err_notes]"
   ]
  },
  {
   "cell_type": "markdown",
   "id": "aa9068d0-3419-4a04-965e-bae1491b018a",
   "metadata": {},
   "source": [
    "### Generate and play"
   ]
  },
  {
   "cell_type": "code",
   "execution_count": null,
   "id": "1f41fe97-c22b-4959-93b7-f88089fc22ef",
   "metadata": {},
   "outputs": [],
   "source": [
    "#x, env, freq = phrase_to_synth(seg, sr, midi_p, t0, num_harmonics = 30, spline_smoothing = 2, verbose = False)\n",
    "x, env, freq = wav_midi_to_synth(seg, sr, midi_p, t0, pd_cfg, max_freq_hz = 16000, spline_smoothing = .5, verbose = False)\n",
    "\n",
    "#--- apply hifi-gan\n",
    "pre_gain = 1 #0.6\n",
    "x_hat = generate_from_audio(pre_gain * x, gen)\n",
    "play_normalize = True\n",
    "ipd.display(ipd.Audio(seg, rate = sr, normalize=play_normalize))\n",
    "ipd.display(ipd.Audio(x_hat, rate = sr, normalize=play_normalize))"
   ]
  },
  {
   "cell_type": "markdown",
   "id": "a13c411e-f29d-4ab4-be89-7cd0e4108cb6",
   "metadata": {},
   "source": [
    "## 2. Generate from midi, using synthetic envelopes (pitch and amplitude)\n",
    "### Side task: fit amplitude envelope for synthesis from midi\n",
    "choose a note and fit (manually...) an ADSR env using cubic-Bezier curves"
   ]
  },
  {
   "cell_type": "code",
   "execution_count": 210,
   "id": "d6189c33-9f92-4d3a-8cb6-5c50f4789394",
   "metadata": {},
   "outputs": [],
   "source": [
    "import importlib\n",
    "import ssynth.utils.envelopes\n",
    "importlib.reload(ssynth.utils.envelopes)\n",
    "from ssynth.utils.envelopes import ADSRBezier\n",
    "from scipy.interpolate import CubicSpline\n",
    "import numpy as np"
   ]
  },
  {
   "cell_type": "code",
   "execution_count": null,
   "id": "2bdfacf3-b67e-4ecc-92f5-f37e260db8a2",
   "metadata": {},
   "outputs": [],
   "source": [
    "#--- compare 2 spline smoothing params (0.5 was used for training)\n",
    "x1, env1, freq1 = wav_midi_to_synth(seg, sr, midi_p, t0, pd_cfg, max_freq_hz=16000, spline_smoothing = 2, verbose = False)\n",
    "x2, env2, freq2 = wav_midi_to_synth(seg, sr, midi_p, t0, pd_cfg, max_freq_hz=16000, spline_smoothing = .1, verbose = False)\n",
    "k1, k2 = 52283, 67500\n",
    "env0 = env1[k1:k2] # use this to manually fir an ADSR env using Bezier etc."
   ]
  },
  {
   "cell_type": "code",
   "execution_count": null,
   "id": "b37e7e8e-3e3d-48c2-b749-493469624eab",
   "metadata": {},
   "outputs": [],
   "source": [
    "#%matplotlib widget\n",
    "import matplotlib.pyplot as plt\n",
    "from matplotlib.patches import Polygon\n",
    "assert (phrase_ind == 42 and file_id == 'Funky_Nadley'), 'the following params were manually chosen based on file \"Funky_Nadley\" and phrase 42, make sure to use the same file and phrase'\n",
    "\n",
    "fig, ax = plt.subplots(figsize = (14,6))\n",
    "#ax.plot(env1,'.')\n",
    "#ax.plot(env2,':')\n",
    "adsr = np.array([0, 1900, 3600, 8100, len(env0) - 1])\n",
    "n0, n1, n2, n3, n4 = adsr\n",
    "e0, e1, e2, e3, e4 = [env0[k] for k in adsr]\n",
    "ax.plot(env0, '.-')\n",
    "\n",
    "a = e1\n",
    "cols = ['b', 'r', 'g', 'c']\n",
    "for k in range(4):\n",
    "    poly = Polygon([[adsr[k], 0], [adsr[k+1], 0], [adsr[k+1], a], [adsr[k],a]], facecolor=cols[k], alpha = 0.15, edgecolor='0.2', closed=True)\n",
    "    ax.add_patch(poly)\n",
    "\n",
    "nA, nD, nS, nR = np.diff(adsr)\n",
    "\n",
    "#curveA = get_bezier_parameters(np.arange(adsr[1]), env0[:nA])\n",
    "#Ax, Ay =  bezier_curve(curveA, nA)\n",
    "\n",
    "#=== Attack\n",
    "Ax, Ay =  env.bezier_curve([[n0, e0],  [.8 * n1, e0],      [.5 * n1, e1],          [n1, e1]], nA)\n",
    "\n",
    "#=== Decay\n",
    "de1 = (e1 - e2)\n",
    "Dx, Dy =  env.bezier_curve([[n1, e1], [n1 + .5 * nD, e1], [n2 - .5 * nD, e2 + .4 * de1], [n2, e2]], nD)\n",
    "\n",
    "#--- Sustain\n",
    "de2 = (e2 - e3)\n",
    "Sx, Sy =  env.bezier_curve([[n2, e2], [n2 + .5 * nD, e2 - .4 * de1], [n3 - .4 * nS, e3 + .1 * de2], [n3, e3]], nS)\n",
    "\n",
    "#--- Release\n",
    "de3 = (e3 - e4)\n",
    "Rx, Ry =  env.bezier_curve([[n3, e3], [n3 + .4 * nS, e3 - .1 * de2], [n4 - 1.2 * nR, e4 + 0 * de3], [n4, e4]], nR)\n",
    "\n",
    "ax.plot(Ax, Ay, 'r')\n",
    "ax.plot(Dx, Dy, 'r')\n",
    "ax.plot(Sx, Sy, 'r')\n",
    "ax.plot(Rx, Ry, 'r')\n",
    "\n",
    "#--- compare with cubic spline\n",
    "spl = CubicSpline(adsr, [env0[k-1] for k in adsr], bc_type='clamped')\n",
    "env_spl = spl(np.arange(n4))\n",
    "ax.plot(env_spl, ':')\n",
    "\n",
    "#ax.plot(np.arange(len(env1)) - k1, env1,':')\n",
    "\n",
    "#ax.set_xlim([n1,15000])\n",
    "#ax.set_ylim([.1,.14])\n",
    "#ax.legend(['original envelope', 'piece-wise cubic Bezier', 'cubic spline'])\n",
    "ax.grid()\n",
    "fig.savefig('bezier_adsr.png')\n",
    "plt.close(fig)"
   ]
  },
  {
   "cell_type": "code",
   "execution_count": 211,
   "id": "1753eb3a-46d9-4acf-8283-2c8008cf2d2a",
   "metadata": {},
   "outputs": [],
   "source": [
    "adsr_cfg = dict(a_t_msec = 43, d_lvl = 0.85, d_t_msec = 39, s_lvl = 0.73, s_t_msec = 100, r_t_msec = 160)\n",
    "adsr_cfg = dict(a_t_msec = 43, d_lvl = 0.85, d_t_msec = 39, s_lvl = 0.73, s_t_msec = 100, r_t_msec = 80)\n",
    "adsr_bez = ADSRBezier(adsr_cfg, sr)\n",
    "env3 = adsr_bez.get_envelope(sustain_msec = 100)\n",
    "env4 = adsr_bez.get_envelope(sustain_msec = 150)"
   ]
  },
  {
   "cell_type": "code",
   "execution_count": null,
   "id": "633439e6-b7f9-4021-a51e-484f2da78980",
   "metadata": {},
   "outputs": [],
   "source": [
    "x = np.r_[Ax, Dx, Sx, Rx]\n",
    "y = np.r_[Ay, Dy, Sy, Ry]\n",
    "ind = np.argsort(x)\n",
    "x1 = x[ind]\n",
    "y1 = y[ind]\n",
    "\n",
    "x2, ind = np.unique(x1, return_index = True)\n",
    "y2 = y1[ind]"
   ]
  },
  {
   "cell_type": "code",
   "execution_count": null,
   "id": "cf02288c-588c-49b5-8587-f710301e03bd",
   "metadata": {},
   "outputs": [],
   "source": [
    "np.array([0, 1900, 3600, 8100, len(env0) - 1])"
   ]
  },
  {
   "cell_type": "code",
   "execution_count": 212,
   "id": "ca2ea736-6a43-467a-8d53-9a084456a625",
   "metadata": {},
   "outputs": [
    {
     "name": "stdout",
     "output_type": "stream",
     "text": [
      "attack:  [[0, 0.0], [1516.8000000000002, 0.0], [948.0, 1.0], [1896, 1.0]]\n",
      "decay:   [[1896, 1.0], [2756.0, 1.0], [2756.0, 0.91], [3616, 0.85]]\n",
      "sustain: [[3616, 0.85], [4476.0, 0.7899999999999999], [7585.0, 0.742], [10231, 0.73]]\n",
      "release: [[10231, 0.73], [12877.0, 0.718], [9525.400000000001, 0.0], [13759, 0.0]]\n"
     ]
    }
   ],
   "source": [
    "env4 = adsr_bez.get_envelope(sustain_msec = 150, verbose=True)"
   ]
  },
  {
   "cell_type": "code",
   "execution_count": null,
   "id": "e3f32318-eba9-42ba-b006-adeb68f0c7fd",
   "metadata": {},
   "outputs": [],
   "source": [
    "%matplotlib widget\n",
    "fig, ax = plt.subplots(figsize = (12,4))\n",
    "\n",
    "#ax.plot(env1, 'o')\n",
    "#ax.plot(env2, 'r.')\n",
    "#ax.plot(env3, 'g.')\n",
    "ax.plot(env4, 'c.')\n",
    "\n",
    "ax.grid()"
   ]
  },
  {
   "cell_type": "code",
   "execution_count": null,
   "id": "381ea5d5-c357-4c02-a6e9-6eb2500975e4",
   "metadata": {},
   "outputs": [],
   "source": []
  }
 ],
 "metadata": {
  "kernelspec": {
   "display_name": "Python 3 (ipykernel)",
   "language": "python",
   "name": "python3"
  },
  "language_info": {
   "codemirror_mode": {
    "name": "ipython",
    "version": 3
   },
   "file_extension": ".py",
   "mimetype": "text/x-python",
   "name": "python",
   "nbconvert_exporter": "python",
   "pygments_lexer": "ipython3",
   "version": "3.9.12"
  }
 },
 "nbformat": 4,
 "nbformat_minor": 5
}
